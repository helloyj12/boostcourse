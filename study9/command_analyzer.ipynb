{
 "cells": [
  {
   "cell_type": "code",
   "execution_count": 1,
   "id": "7980f667",
   "metadata": {},
   "outputs": [],
   "source": [
    "import csv"
   ]
  },
  {
   "cell_type": "code",
   "execution_count": 2,
   "id": "54ed2103",
   "metadata": {},
   "outputs": [],
   "source": [
    "def getKey(item):\n",
    "    return item[1]"
   ]
  },
  {
   "cell_type": "code",
   "execution_count": 3,
   "id": "b3d6a729",
   "metadata": {},
   "outputs": [],
   "source": [
    "command_data = []\n",
    "with open(\"C:/Data/command_data.csv\", \"r\", encoding=\"utf8\") as csvfile:\n",
    "    spamreader = csv.reader(csvfile, delimiter=',', quotechar='\"')\n",
    "    for row in spamreader:\n",
    "        command_data.append(row)\n",
    "# [명령어, id] "
   ]
  },
  {
   "cell_type": "code",
   "execution_count": 4,
   "id": "9e39e03a",
   "metadata": {},
   "outputs": [],
   "source": [
    "command_counter = {} # key: id, value: 입력 줄 수\n",
    "for data in command_data:\n",
    "    if data[1] in command_counter.keys(): # 아이디가 key 값에 있느냐\n",
    "        command_counter[data[1]] += 1 \n",
    "    else:\n",
    "        command_counter[data[1]] = 1 # 처음 나온 아이디"
   ]
  },
  {
   "cell_type": "code",
   "execution_count": 6,
   "id": "4b34f8c1",
   "metadata": {},
   "outputs": [
    {
     "data": {
      "text/plain": [
       "{'id': 1,\n",
       " 'source': 1,\n",
       " 'tiana': 167,\n",
       " 'white_rabbit': 237,\n",
       " 'flo': 324,\n",
       " 'chum': 311,\n",
       " 'rocket_raccoon': 473,\n",
       " 'faline': 3115,\n",
       " 'kristoff': 4934,\n",
       " 'tinker_bell': 696,\n",
       " 'crush': 231,\n",
       " 'flik': 424,\n",
       " 'claire_wheeler': 2777,\n",
       " 'meg': 3098,\n",
       " 'fillmore': 7394,\n",
       " 'tarzan': 4193,\n",
       " 'bomb_voyage': 337,\n",
       " 'prince_naveen': 425,\n",
       " 'disgust': 305,\n",
       " 'bo_peep': 407,\n",
       " 'francis': 5978,\n",
       " 'aladdin': 402,\n",
       " 'eve': 239,\n",
       " 'bookworm': 8500,\n",
       " 'cheshire_cat': 200,\n",
       " 'anna': 304,\n",
       " 'emperor_zurg': 4470,\n",
       " 'the_dodo': 1364,\n",
       " 'finn_mcmissile': 319,\n",
       " 'barricade': 5,\n",
       " 'fear': 2968,\n",
       " 'marlon_the_alligator': 3203,\n",
       " 'don_carlton': 2773,\n",
       " 'alice': 123,\n",
       " 'carrie_williams': 223,\n",
       " 'boo': 304,\n",
       " 'bing_bong': 311,\n",
       " 'charlie': 363,\n",
       " 'snow_white': 115,\n",
       " 'elsa': 7500,\n",
       " 'emile': 168,\n",
       " 'django': 371,\n",
       " 'fred': 244,\n",
       " 'bambi': 275,\n",
       " 'fa_zhou': 299,\n",
       " 'fritz': 94,\n",
       " 'duke_of_weselton': 264,\n",
       " 'nani_pelekai': 319,\n",
       " 'the_magic_mirror': 116,\n",
       " 'mulan': 188,\n",
       " 'thor': 98,\n",
       " 'flynn_rider': 1996,\n",
       " 'lilo_pelekai': 190,\n",
       " 'anton_ego': 5819,\n",
       " 'queen_grimhilde': 5000,\n",
       " 'tiger_lily': 1846,\n",
       " 'mungo': 237,\n",
       " 'tigger': 884,\n",
       " 'guido': 2541,\n",
       " 'stitch': 3742,\n",
       " 'mama_odie': 1883,\n",
       " 'shell_history': 60,\n",
       " 'flora': 247,\n",
       " 'chick_hicks': 1678,\n",
       " 'francesco_bernoulli': 292,\n",
       " 'darla_sherman': 1861,\n",
       " 'brent_mustangburger': 4838,\n",
       " 'charlotte_la_bouff': 472,\n",
       " 'riley_anderson': 330,\n",
       " 'joy': 258,\n",
       " 'sadness': 133,\n",
       " 'prince_hans': 275,\n",
       " 'chatter_telephone': 372,\n",
       " 'rapunzel': 219,\n",
       " 'peter_pig': 500,\n",
       " 'dory': 410,\n",
       " 'jane_porter': 852,\n",
       " 'chunk': 126,\n",
       " 'louis_the_alligator': 1374,\n",
       " 'brock_pearson': 242,\n",
       " 'coral': 186,\n",
       " 'darrell_cartrip': 146,\n",
       " 'maximus': 172,\n",
       " 'ray_the_firefly': 998,\n",
       " 'bumblebee': 260,\n",
       " 'kocoum': 438,\n",
       " 'al_mcwhiggin': 777,\n",
       " 'auguste_gusteau': 153,\n",
       " 'auto': 458,\n",
       " 'roo': 2782,\n",
       " 'roger_rabbit': 211,\n",
       " 'captain_hook': 403,\n",
       " 'collette_tatou': 206,\n",
       " 'eudora': 191,\n",
       " 'storm': 19,\n",
       " 'dim': 240,\n",
       " 'dolly': 254,\n",
       " 'aurora': 267,\n",
       " 'pocahontas': 312,\n",
       " 'genie': 61,\n",
       " 'splunk_teamlab': 115,\n",
       " 'pascal': 224,\n",
       " 'peter_pan': 463,\n",
       " 'merryweather': 219,\n",
       " 'wendy_darling': 218,\n",
       " 'nakoma': 133,\n",
       " 'hadoop_teamlab': 53,\n",
       " 'abominable_snowman': 1,\n",
       " 'silver_surfer': 1,\n",
       " 'sven': 1,\n",
       " 'clayton': 1,\n",
       " 'tootles': 1,\n",
       " 'bullseye': 1,\n",
       " 'acer': 1,\n",
       " 'oaken': 1,\n",
       " 'alfredo_linguini': 1}"
      ]
     },
     "execution_count": 6,
     "metadata": {},
     "output_type": "execute_result"
    }
   ],
   "source": [
    "command_counter"
   ]
  },
  {
   "cell_type": "code",
   "execution_count": 5,
   "id": "3213a9d0",
   "metadata": {},
   "outputs": [],
   "source": [
    "dictlist = [] # dict를 list로 변형\n",
    "for key, value in command_counter.items():\n",
    "    temp = [key, value]\n",
    "    dictlist.append(temp)"
   ]
  },
  {
   "cell_type": "code",
   "execution_count": 7,
   "id": "59155e80",
   "metadata": {},
   "outputs": [
    {
     "name": "stdout",
     "output_type": "stream",
     "text": [
      "[['bookworm', 8500], ['elsa', 7500], ['fillmore', 7394], ['francis', 5978], ['anton_ego', 5819], ['queen_grimhilde', 5000], ['kristoff', 4934], ['brent_mustangburger', 4838], ['emperor_zurg', 4470], ['tarzan', 4193], ['stitch', 3742], ['marlon_the_alligator', 3203], ['faline', 3115], ['meg', 3098], ['fear', 2968], ['roo', 2782], ['claire_wheeler', 2777], ['don_carlton', 2773], ['guido', 2541], ['flynn_rider', 1996], ['mama_odie', 1883], ['darla_sherman', 1861], ['tiger_lily', 1846], ['chick_hicks', 1678], ['louis_the_alligator', 1374], ['the_dodo', 1364], ['ray_the_firefly', 998], ['tigger', 884], ['jane_porter', 852], ['al_mcwhiggin', 777], ['tinker_bell', 696], ['peter_pig', 500], ['rocket_raccoon', 473], ['charlotte_la_bouff', 472], ['peter_pan', 463], ['auto', 458], ['kocoum', 438], ['prince_naveen', 425], ['flik', 424], ['dory', 410], ['bo_peep', 407], ['captain_hook', 403], ['aladdin', 402], ['chatter_telephone', 372], ['django', 371], ['charlie', 363], ['bomb_voyage', 337], ['riley_anderson', 330], ['flo', 324], ['finn_mcmissile', 319], ['nani_pelekai', 319], ['pocahontas', 312], ['chum', 311], ['bing_bong', 311], ['disgust', 305], ['anna', 304], ['boo', 304], ['fa_zhou', 299], ['francesco_bernoulli', 292], ['bambi', 275], ['prince_hans', 275], ['aurora', 267], ['duke_of_weselton', 264], ['bumblebee', 260], ['joy', 258], ['dolly', 254], ['flora', 247], ['fred', 244], ['brock_pearson', 242], ['dim', 240], ['eve', 239], ['white_rabbit', 237], ['mungo', 237], ['crush', 231], ['pascal', 224], ['carrie_williams', 223], ['rapunzel', 219], ['merryweather', 219], ['wendy_darling', 218], ['roger_rabbit', 211], ['collette_tatou', 206], ['cheshire_cat', 200], ['eudora', 191], ['lilo_pelekai', 190], ['mulan', 188], ['coral', 186], ['maximus', 172], ['emile', 168], ['tiana', 167], ['auguste_gusteau', 153], ['darrell_cartrip', 146], ['sadness', 133], ['nakoma', 133], ['chunk', 126], ['alice', 123], ['the_magic_mirror', 116], ['snow_white', 115], ['splunk_teamlab', 115], ['thor', 98], ['fritz', 94]]\n"
     ]
    }
   ],
   "source": [
    "# sorted(key=) : key = sorting 기준 값\n",
    "sorted_dict = sorted(dictlist, key=getKey, reverse=True)\n",
    "print(sorted_dict[:100]) # 상위 100개만 출력"
   ]
  },
  {
   "cell_type": "code",
   "execution_count": null,
   "id": "299fd360",
   "metadata": {},
   "outputs": [],
   "source": []
  },
  {
   "cell_type": "code",
   "execution_count": null,
   "id": "5e9ed5f5",
   "metadata": {},
   "outputs": [],
   "source": []
  },
  {
   "cell_type": "code",
   "execution_count": null,
   "id": "877d7992",
   "metadata": {},
   "outputs": [],
   "source": []
  },
  {
   "cell_type": "code",
   "execution_count": null,
   "id": "48f097d8",
   "metadata": {},
   "outputs": [],
   "source": []
  },
  {
   "cell_type": "code",
   "execution_count": null,
   "id": "7752b04e",
   "metadata": {},
   "outputs": [],
   "source": []
  },
  {
   "cell_type": "code",
   "execution_count": null,
   "id": "2ce0fa01",
   "metadata": {},
   "outputs": [],
   "source": []
  }
 ],
 "metadata": {
  "kernelspec": {
   "display_name": "Python 3 (ipykernel)",
   "language": "python",
   "name": "python3"
  },
  "language_info": {
   "codemirror_mode": {
    "name": "ipython",
    "version": 3
   },
   "file_extension": ".py",
   "mimetype": "text/x-python",
   "name": "python",
   "nbconvert_exporter": "python",
   "pygments_lexer": "ipython3",
   "version": "3.9.13"
  }
 },
 "nbformat": 4,
 "nbformat_minor": 5
}
