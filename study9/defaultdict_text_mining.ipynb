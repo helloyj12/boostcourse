{
 "cells": [
  {
   "cell_type": "code",
   "execution_count": 1,
   "id": "3af05f65",
   "metadata": {},
   "outputs": [],
   "source": [
    "text = \"\"\"A press release is the quickest and easiest way to get free publicity. If\n",
    "well written, a press release can result in multiple published articles about your\n",
    "firm and its products. And that can mean new prospects contacting you asking you to\n",
    "sell to them. ….\"\"\".lower().split()"
   ]
  },
  {
   "cell_type": "code",
   "execution_count": 2,
   "id": "3026fc2a",
   "metadata": {},
   "outputs": [],
   "source": [
    "def get_key(x):\n",
    "    return x[1]"
   ]
  },
  {
   "cell_type": "code",
   "execution_count": 5,
   "id": "fcacd6c0",
   "metadata": {},
   "outputs": [
    {
     "data": {
      "text/plain": [
       "defaultdict(<function __main__.<lambda>()>, {})"
      ]
     },
     "execution_count": 5,
     "metadata": {},
     "output_type": "execute_result"
    }
   ],
   "source": [
    "from collections import OrderedDict\n",
    "from collections import defaultdict\n",
    "\n",
    "word_count = defaultdict(lambda: 0)\n",
    "word_count"
   ]
  },
  {
   "cell_type": "code",
   "execution_count": 8,
   "id": "5a38109c",
   "metadata": {},
   "outputs": [
    {
     "data": {
      "text/plain": [
       "defaultdict(<function __main__.<lambda>()>,\n",
       "            {'a': 6,\n",
       "             'press': 6,\n",
       "             'release': 6,\n",
       "             'is': 3,\n",
       "             'the': 3,\n",
       "             'quickest': 3,\n",
       "             'and': 9,\n",
       "             'easiest': 3,\n",
       "             'way': 3,\n",
       "             'to': 9,\n",
       "             'get': 3,\n",
       "             'free': 3,\n",
       "             'publicity.': 3,\n",
       "             'if': 3,\n",
       "             'well': 3,\n",
       "             'written,': 3,\n",
       "             'can': 6,\n",
       "             'result': 3,\n",
       "             'in': 3,\n",
       "             'multiple': 3,\n",
       "             'published': 3,\n",
       "             'articles': 3,\n",
       "             'about': 3,\n",
       "             'your': 3,\n",
       "             'firm': 3,\n",
       "             'its': 3,\n",
       "             'products.': 3,\n",
       "             'that': 3,\n",
       "             'mean': 3,\n",
       "             'new': 3,\n",
       "             'prospects': 3,\n",
       "             'contacting': 3,\n",
       "             'you': 6,\n",
       "             'asking': 3,\n",
       "             'sell': 3,\n",
       "             'them.': 3,\n",
       "             '….': 3})"
      ]
     },
     "execution_count": 8,
     "metadata": {},
     "output_type": "execute_result"
    }
   ],
   "source": [
    "for word in text:\n",
    "    word_count[word] += 1\n",
    "word_count\n",
    "# Counter(text) -> 한 줄로 구현 가능"
   ]
  },
  {
   "cell_type": "code",
   "execution_count": 13,
   "id": "e41d4690",
   "metadata": {},
   "outputs": [
    {
     "name": "stdout",
     "output_type": "stream",
     "text": [
      "OrderedDict([('and', 9), ('to', 9), ('a', 6), ('press', 6), ('release', 6), ('can', 6), ('you', 6), ('is', 3), ('the', 3), ('quickest', 3), ('easiest', 3), ('way', 3), ('get', 3), ('free', 3), ('publicity.', 3), ('if', 3), ('well', 3), ('written,', 3), ('result', 3), ('in', 3), ('multiple', 3), ('published', 3), ('articles', 3), ('about', 3), ('your', 3), ('firm', 3), ('its', 3), ('products.', 3), ('that', 3), ('mean', 3), ('new', 3), ('prospects', 3), ('contacting', 3), ('asking', 3), ('sell', 3), ('them.', 3), ('….', 3)])\n"
     ]
    }
   ],
   "source": [
    "sorted_dict = OrderedDict()\n",
    "for i, v in sorted(word_count.items(), key=get_key, reverse=True):\n",
    "    sorted_dict[i] = v\n",
    "print(sorted_dict)"
   ]
  }
 ],
 "metadata": {
  "kernelspec": {
   "display_name": "Python 3 (ipykernel)",
   "language": "python",
   "name": "python3"
  },
  "language_info": {
   "codemirror_mode": {
    "name": "ipython",
    "version": 3
   },
   "file_extension": ".py",
   "mimetype": "text/x-python",
   "name": "python",
   "nbconvert_exporter": "python",
   "pygments_lexer": "ipython3",
   "version": "3.9.13"
  }
 },
 "nbformat": 4,
 "nbformat_minor": 5
}
