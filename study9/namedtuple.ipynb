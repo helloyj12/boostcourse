{
 "cells": [
  {
   "cell_type": "code",
   "execution_count": 3,
   "id": "e1b26d41",
   "metadata": {},
   "outputs": [
    {
     "data": {
      "text/plain": [
       "(11, 22)"
      ]
     },
     "execution_count": 3,
     "metadata": {},
     "output_type": "execute_result"
    }
   ],
   "source": [
    "from collections import namedtuple\n",
    "\n",
    "Point = namedtuple('Point', ['x', 'y']) # point = 저장 구조, x, y = 가지고 있는 값\n",
    "p = Point(x=11, y=22)\n",
    "p[0], p[1]"
   ]
  },
  {
   "cell_type": "code",
   "execution_count": 1,
   "id": "48e4131f",
   "metadata": {},
   "outputs": [
    {
     "name": "stdout",
     "output_type": "stream",
     "text": [
      "33\n"
     ]
    }
   ],
   "source": [
    "print(p[0] + p[1])"
   ]
  },
  {
   "cell_type": "code",
   "execution_count": 2,
   "id": "ce2f8204",
   "metadata": {},
   "outputs": [
    {
     "name": "stdout",
     "output_type": "stream",
     "text": [
      "33\n"
     ]
    }
   ],
   "source": [
    "print(p.x + p.y)"
   ]
  },
  {
   "cell_type": "code",
   "execution_count": null,
   "id": "c73ce32c",
   "metadata": {},
   "outputs": [],
   "source": [
    "from collections import namedtuple\n",
    "import csv\n",
    "\n",
    "f = open(\"users.csv\", \"r\")\n",
    "next(f)\n",
    "reader = csv.reader(f)\n",
    "student_list = []\n",
    "for row in reader:\n",
    "    student_list.append(row)\n",
    "    print(row)\n",
    "\n",
    "coloumns = [\"user_id\", \"integration_id\", \"login_id\", \"password\", \"first_name\"\n",
    "            , \"last_name\", \"full_name\", \"sortable_name\", \"short_name\"\n",
    "            ,\"email\", \"status\"]\n",
    "\n",
    "Student = namedtuple('Student', \" \".join(coloumns))\n",
    "student_namedtupe_list = []\n",
    "for row in student_list:\n",
    "    print(row)\n",
    "    student = Student(*row)\n",
    "    print(student)\n",
    "    student_namedtupe_list.append(student) # 학생에 대한 정보들을 key-value로 저장\n",
    "print(student_namedtupe_list)\n",
    "print(student_namedtupe_list[0].full_name)"
   ]
  }
 ],
 "metadata": {
  "kernelspec": {
   "display_name": "Python 3 (ipykernel)",
   "language": "python",
   "name": "python3"
  },
  "language_info": {
   "codemirror_mode": {
    "name": "ipython",
    "version": 3
   },
   "file_extension": ".py",
   "mimetype": "text/x-python",
   "name": "python",
   "nbconvert_exporter": "python",
   "pygments_lexer": "ipython3",
   "version": "3.9.13"
  }
 },
 "nbformat": 4,
 "nbformat_minor": 5
}
