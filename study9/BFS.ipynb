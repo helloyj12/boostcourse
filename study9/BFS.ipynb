{
 "cells": [
  {
   "cell_type": "code",
   "execution_count": 1,
   "id": "70b4547c",
   "metadata": {},
   "outputs": [],
   "source": [
    "graph = {\n",
    "    1:[2, 3, 4],\n",
    "    2:[5],\n",
    "    3:[5],\n",
    "    4:[],\n",
    "    5:[6, 7],\n",
    "    6:[],\n",
    "    7:[3]\n",
    "}"
   ]
  },
  {
   "cell_type": "code",
   "execution_count": 2,
   "id": "32c02504",
   "metadata": {},
   "outputs": [],
   "source": [
    "def iterative_bfs(start_v):\n",
    "    discovered = [start_v]\n",
    "    queue = [start_v]\n",
    "    while queue:\n",
    "        v = queue.pop(0)\n",
    "        for w in graph[v]:\n",
    "            if w not in discovered:\n",
    "                discovered.append(w)\n",
    "                queue.append(w)\n",
    "                print(\"w:\", w)\n",
    "                print(\"discovered:\", discovered)\n",
    "                print(\"queue:\", queue)\n",
    "    return discovered"
   ]
  },
  {
   "cell_type": "code",
   "execution_count": 3,
   "id": "af6fe7a8",
   "metadata": {},
   "outputs": [
    {
     "name": "stdout",
     "output_type": "stream",
     "text": [
      "w: 2\n",
      "discovered: [1, 2]\n",
      "queue: [2]\n",
      "w: 3\n",
      "discovered: [1, 2, 3]\n",
      "queue: [2, 3]\n",
      "w: 4\n",
      "discovered: [1, 2, 3, 4]\n",
      "queue: [2, 3, 4]\n",
      "w: 5\n",
      "discovered: [1, 2, 3, 4, 5]\n",
      "queue: [3, 4, 5]\n",
      "w: 6\n",
      "discovered: [1, 2, 3, 4, 5, 6]\n",
      "queue: [6]\n",
      "w: 7\n",
      "discovered: [1, 2, 3, 4, 5, 6, 7]\n",
      "queue: [6, 7]\n"
     ]
    },
    {
     "data": {
      "text/plain": [
       "[1, 2, 3, 4, 5, 6, 7]"
      ]
     },
     "execution_count": 3,
     "metadata": {},
     "output_type": "execute_result"
    }
   ],
   "source": [
    "iterative_bfs(1)"
   ]
  },
  {
   "cell_type": "code",
   "execution_count": null,
   "id": "cda79404",
   "metadata": {},
   "outputs": [],
   "source": []
  }
 ],
 "metadata": {
  "kernelspec": {
   "display_name": "Python 3 (ipykernel)",
   "language": "python",
   "name": "python3"
  },
  "language_info": {
   "codemirror_mode": {
    "name": "ipython",
    "version": 3
   },
   "file_extension": ".py",
   "mimetype": "text/x-python",
   "name": "python",
   "nbconvert_exporter": "python",
   "pygments_lexer": "ipython3",
   "version": "3.9.16"
  }
 },
 "nbformat": 4,
 "nbformat_minor": 5
}
