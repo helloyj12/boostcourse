{
 "cells": [
  {
   "cell_type": "code",
   "execution_count": 1,
   "id": "1a5a6070",
   "metadata": {},
   "outputs": [
    {
     "name": "stdout",
     "output_type": "stream",
     "text": [
      "2023년 02월 01일 16시 11분 기준 장마감\n",
      "종목명 삼성전자\n",
      "종목코드 005930 코스피\n",
      "현재가 61,800 전일대비 상승 800 플러스 1.31 퍼센트\n",
      "전일가 61,000\n",
      "시가 62,600\n",
      "고가 62,700\n",
      "상한가 79,300\n",
      "저가 61,000\n",
      "하한가 42,700\n",
      "거래량 17,148,172\n",
      "거래대금 1,058,034백만\n"
     ]
    }
   ],
   "source": [
    "# <dl> 정보 안에 <dd> 정보를 가져옴\n",
    "import urllib.request\n",
    "import re\n",
    "\n",
    "url = \"http://finance.naver.com/item/main.nhn?code=005930\"\n",
    "html = urllib.request.urlopen(url)\n",
    "html_contents = str(html.read().decode(\"ms949\"))\n",
    "\n",
    "stock_results = re.findall(\"(\\<dl class=\\\"blind\\\"\\>)([\\s\\S]+?)(\\<\\/dl\\>)\", html_contents)\n",
    "samsung_stock = stock_results[0] # 두 개 tuple 값중 첫번째 패턴\n",
    "samsung_index = samsung_stock[1] # 세 개의 tuple 값중 두 번째 값\n",
    "                                 # 하나의 괄호가 tuple index가 됨\n",
    "\n",
    "index_list= re.findall(\"(\\<dd\\>)([\\s\\S]+?)(\\<\\/dd\\>)\", samsung_index)\n",
    "\n",
    "for index in index_list:\n",
    "    print (index[1]) # 세 개의 tuple 값중 두 번째 값"
   ]
  },
  {
   "cell_type": "code",
   "execution_count": null,
   "id": "7c74d16a",
   "metadata": {},
   "outputs": [],
   "source": []
  }
 ],
 "metadata": {
  "kernelspec": {
   "display_name": "Python 3 (ipykernel)",
   "language": "python",
   "name": "python3"
  },
  "language_info": {
   "codemirror_mode": {
    "name": "ipython",
    "version": 3
   },
   "file_extension": ".py",
   "mimetype": "text/x-python",
   "name": "python",
   "nbconvert_exporter": "python",
   "pygments_lexer": "ipython3",
   "version": "3.9.13"
  }
 },
 "nbformat": 4,
 "nbformat_minor": 5
}
